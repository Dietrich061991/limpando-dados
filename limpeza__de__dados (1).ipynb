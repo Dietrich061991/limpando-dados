{
  "nbformat": 4,
  "nbformat_minor": 0,
  "metadata": {
    "colab": {
      "name": "limpeza_ de _dados.ipynb",
      "provenance": [],
      "collapsed_sections": []
    },
    "kernelspec": {
      "name": "python3",
      "display_name": "Python 3"
    }
  },
  "cells": [
    {
      "cell_type": "markdown",
      "metadata": {
        "id": "JLfOqVAj3Vuz",
        "colab_type": "text"
      },
      "source": [
        "# **Limpeza e Tratamento da base. Pré processamento**\n",
        "\n",
        "O processo de limpeza e preparaçao dos dados é uma das  etapa mais importante a ser realizada antes de iniciar qualquer análise. Ele representa cerca de 75% do trabalho de um cientista de dados e pode ser muito custoso. Nesta etapa, é realizada a limpeza e a preparação das informações que temos em mãos. Isso significa o que? Que o cientista de dados irá verificar:\n",
        "\n",
        "\n",
        "\n",
        "\n",
        "*   Os tipos de dados(se a base de dados contem valores do tipo numéricos/categóricos, datas, caracteres etc) \n",
        "*   Verificar se tem dados  faltando e porque se for possível  \n",
        "*   descobrir se existem  valores absurdos na base\n",
        "*   verificar se alguns dados podem ser transformados e ir pensando em possíveis transformações. \n",
        "*   verificar se alguns dados estao duplicados\n",
        "\n",
        "Nesse post, iremos abordar algumas técnicas para tratamento e limpeza das informações utilizando o Pandas, uma biblioteca da linguagem Python.\n",
        "\n",
        "\n",
        "\n"
      ]
    },
    {
      "cell_type": "code",
      "metadata": {
        "id": "frWQq5K1HbXu",
        "colab_type": "code",
        "colab": {}
      },
      "source": [
        "import pandas as pd\n",
        "import numpy as np\n"
      ],
      "execution_count": null,
      "outputs": []
    },
    {
      "cell_type": "markdown",
      "metadata": {
        "id": "iPlX1REzHpc9",
        "colab_type": "text"
      },
      "source": [
        "# **Vamos Criar um dicionário em Python para armazenar as notas dos alunos que fizeram uma prova no Brasil.** "
      ]
    },
    {
      "cell_type": "code",
      "metadata": {
        "id": "TiBCKk0zH-y-",
        "colab_type": "code",
        "colab": {}
      },
      "source": [
        "dic = { 'Aluno' :      ['Dietrich','hans','hans','mel','Samuel','junior'] ,\n",
        "        'Matematica' : [5,4,4,6,5,7],\n",
        "        'Historia' :   [7,7,7,np.nan,0,1],\n",
        "        'Geografia' :  [np.nan,np.nan,np.nan,12,4,5],\n",
        "        'informatica': [9,np.nan,np.nan,np.nan,5,7.5],\n",
        "        'programaçao': [2,5,5,10,8,3],\n",
        "        'Desafio' :    [1,7,7,9,4,4.6],\n",
        "        'Tarefa' :     [10,11,11,12,np.nan,5,],\n",
        "        'País' :       ['BRASIL','BRASIL','BRASIL','BRASIL','BRASIL','BRASIL'] }"
      ],
      "execution_count": null,
      "outputs": []
    },
    {
      "cell_type": "markdown",
      "metadata": {
        "id": "4wEcw_aVXrrA",
        "colab_type": "text"
      },
      "source": [
        "# **Adicionando o dicionário que foi criado anteriormente num DataFrame(uma Tabela)**."
      ]
    },
    {
      "cell_type": "code",
      "metadata": {
        "id": "82d_RWxCKRX4",
        "colab_type": "code",
        "colab": {}
      },
      "source": [
        "notas = pd.DataFrame(dic)  ### aplica a função DataFrame do pandas\n"
      ],
      "execution_count": null,
      "outputs": []
    },
    {
      "cell_type": "markdown",
      "metadata": {
        "id": "BTAX9IEaYfiq",
        "colab_type": "text"
      },
      "source": [
        "# **Imprimindo a nossa Tabela(método 1)**"
      ]
    },
    {
      "cell_type": "code",
      "metadata": {
        "id": "FBg1vgJQU-el",
        "colab_type": "code",
        "colab": {
          "base_uri": "https://localhost:8080/",
          "height": 235
        },
        "outputId": "5a3ab093-2855-44f2-9ae7-4acf8f1e0cb4"
      },
      "source": [
        "notas"
      ],
      "execution_count": null,
      "outputs": [
        {
          "output_type": "execute_result",
          "data": {
            "text/html": [
              "<div>\n",
              "<style scoped>\n",
              "    .dataframe tbody tr th:only-of-type {\n",
              "        vertical-align: middle;\n",
              "    }\n",
              "\n",
              "    .dataframe tbody tr th {\n",
              "        vertical-align: top;\n",
              "    }\n",
              "\n",
              "    .dataframe thead th {\n",
              "        text-align: right;\n",
              "    }\n",
              "</style>\n",
              "<table border=\"1\" class=\"dataframe\">\n",
              "  <thead>\n",
              "    <tr style=\"text-align: right;\">\n",
              "      <th></th>\n",
              "      <th>Aluno</th>\n",
              "      <th>Matematica</th>\n",
              "      <th>Historia</th>\n",
              "      <th>Geografia</th>\n",
              "      <th>informatica</th>\n",
              "      <th>programaçao</th>\n",
              "      <th>Desafio</th>\n",
              "      <th>Tarefa</th>\n",
              "      <th>País</th>\n",
              "    </tr>\n",
              "  </thead>\n",
              "  <tbody>\n",
              "    <tr>\n",
              "      <th>0</th>\n",
              "      <td>Dietrich</td>\n",
              "      <td>5</td>\n",
              "      <td>7.0</td>\n",
              "      <td>NaN</td>\n",
              "      <td>9.0</td>\n",
              "      <td>2</td>\n",
              "      <td>1.0</td>\n",
              "      <td>10.0</td>\n",
              "      <td>BRASIL</td>\n",
              "    </tr>\n",
              "    <tr>\n",
              "      <th>1</th>\n",
              "      <td>hans</td>\n",
              "      <td>4</td>\n",
              "      <td>7.0</td>\n",
              "      <td>NaN</td>\n",
              "      <td>NaN</td>\n",
              "      <td>5</td>\n",
              "      <td>7.0</td>\n",
              "      <td>11.0</td>\n",
              "      <td>BRASIL</td>\n",
              "    </tr>\n",
              "    <tr>\n",
              "      <th>2</th>\n",
              "      <td>hans</td>\n",
              "      <td>4</td>\n",
              "      <td>7.0</td>\n",
              "      <td>NaN</td>\n",
              "      <td>NaN</td>\n",
              "      <td>5</td>\n",
              "      <td>7.0</td>\n",
              "      <td>11.0</td>\n",
              "      <td>BRASIL</td>\n",
              "    </tr>\n",
              "    <tr>\n",
              "      <th>3</th>\n",
              "      <td>mel</td>\n",
              "      <td>6</td>\n",
              "      <td>NaN</td>\n",
              "      <td>12.0</td>\n",
              "      <td>NaN</td>\n",
              "      <td>10</td>\n",
              "      <td>9.0</td>\n",
              "      <td>12.0</td>\n",
              "      <td>BRASIL</td>\n",
              "    </tr>\n",
              "    <tr>\n",
              "      <th>4</th>\n",
              "      <td>Samuel</td>\n",
              "      <td>5</td>\n",
              "      <td>0.0</td>\n",
              "      <td>4.0</td>\n",
              "      <td>5.0</td>\n",
              "      <td>8</td>\n",
              "      <td>4.0</td>\n",
              "      <td>NaN</td>\n",
              "      <td>BRASIL</td>\n",
              "    </tr>\n",
              "    <tr>\n",
              "      <th>5</th>\n",
              "      <td>junior</td>\n",
              "      <td>7</td>\n",
              "      <td>1.0</td>\n",
              "      <td>5.0</td>\n",
              "      <td>7.5</td>\n",
              "      <td>3</td>\n",
              "      <td>4.6</td>\n",
              "      <td>5.0</td>\n",
              "      <td>BRASIL</td>\n",
              "    </tr>\n",
              "  </tbody>\n",
              "</table>\n",
              "</div>"
            ],
            "text/plain": [
              "      Aluno  Matematica  Historia  ...  Desafio  Tarefa    País\n",
              "0  Dietrich           5       7.0  ...      1.0    10.0  BRASIL\n",
              "1      hans           4       7.0  ...      7.0    11.0  BRASIL\n",
              "2      hans           4       7.0  ...      7.0    11.0  BRASIL\n",
              "3       mel           6       NaN  ...      9.0    12.0  BRASIL\n",
              "4    Samuel           5       0.0  ...      4.0     NaN  BRASIL\n",
              "5    junior           7       1.0  ...      4.6     5.0  BRASIL\n",
              "\n",
              "[6 rows x 9 columns]"
            ]
          },
          "metadata": {
            "tags": []
          },
          "execution_count": 6
        }
      ]
    },
    {
      "cell_type": "markdown",
      "metadata": {
        "id": "JDZz8VJpZdF_",
        "colab_type": "text"
      },
      "source": [
        "# **Imprimindo a nossa Tabela(metodo 2)**"
      ]
    },
    {
      "cell_type": "code",
      "metadata": {
        "id": "Hw46zuZqZuXs",
        "colab_type": "code",
        "colab": {
          "base_uri": "https://localhost:8080/",
          "height": 204
        },
        "outputId": "acbc0b02-92bc-4861-88c5-3a9685629a9c"
      },
      "source": [
        "# esse é a forma padrão para imprimir o Dataframe .(o método 'head()' retorna as  5 primeiras linhas da Tabela )\n",
        "notas.head()"
      ],
      "execution_count": null,
      "outputs": [
        {
          "output_type": "execute_result",
          "data": {
            "text/html": [
              "<div>\n",
              "<style scoped>\n",
              "    .dataframe tbody tr th:only-of-type {\n",
              "        vertical-align: middle;\n",
              "    }\n",
              "\n",
              "    .dataframe tbody tr th {\n",
              "        vertical-align: top;\n",
              "    }\n",
              "\n",
              "    .dataframe thead th {\n",
              "        text-align: right;\n",
              "    }\n",
              "</style>\n",
              "<table border=\"1\" class=\"dataframe\">\n",
              "  <thead>\n",
              "    <tr style=\"text-align: right;\">\n",
              "      <th></th>\n",
              "      <th>Aluno</th>\n",
              "      <th>Matematica</th>\n",
              "      <th>Historia</th>\n",
              "      <th>Geografia</th>\n",
              "      <th>informatica</th>\n",
              "      <th>programaçao</th>\n",
              "      <th>Desafio</th>\n",
              "      <th>Tarefa</th>\n",
              "      <th>País</th>\n",
              "    </tr>\n",
              "  </thead>\n",
              "  <tbody>\n",
              "    <tr>\n",
              "      <th>0</th>\n",
              "      <td>Dietrich</td>\n",
              "      <td>5</td>\n",
              "      <td>7.0</td>\n",
              "      <td>NaN</td>\n",
              "      <td>9.0</td>\n",
              "      <td>2</td>\n",
              "      <td>1.0</td>\n",
              "      <td>10.0</td>\n",
              "      <td>BRASIL</td>\n",
              "    </tr>\n",
              "    <tr>\n",
              "      <th>1</th>\n",
              "      <td>hans</td>\n",
              "      <td>4</td>\n",
              "      <td>7.0</td>\n",
              "      <td>NaN</td>\n",
              "      <td>NaN</td>\n",
              "      <td>5</td>\n",
              "      <td>7.0</td>\n",
              "      <td>11.0</td>\n",
              "      <td>BRASIL</td>\n",
              "    </tr>\n",
              "    <tr>\n",
              "      <th>2</th>\n",
              "      <td>hans</td>\n",
              "      <td>4</td>\n",
              "      <td>7.0</td>\n",
              "      <td>NaN</td>\n",
              "      <td>NaN</td>\n",
              "      <td>5</td>\n",
              "      <td>7.0</td>\n",
              "      <td>11.0</td>\n",
              "      <td>BRASIL</td>\n",
              "    </tr>\n",
              "    <tr>\n",
              "      <th>3</th>\n",
              "      <td>mel</td>\n",
              "      <td>6</td>\n",
              "      <td>NaN</td>\n",
              "      <td>12.0</td>\n",
              "      <td>NaN</td>\n",
              "      <td>10</td>\n",
              "      <td>9.0</td>\n",
              "      <td>12.0</td>\n",
              "      <td>BRASIL</td>\n",
              "    </tr>\n",
              "    <tr>\n",
              "      <th>4</th>\n",
              "      <td>Samuel</td>\n",
              "      <td>5</td>\n",
              "      <td>0.0</td>\n",
              "      <td>4.0</td>\n",
              "      <td>5.0</td>\n",
              "      <td>8</td>\n",
              "      <td>4.0</td>\n",
              "      <td>NaN</td>\n",
              "      <td>BRASIL</td>\n",
              "    </tr>\n",
              "  </tbody>\n",
              "</table>\n",
              "</div>"
            ],
            "text/plain": [
              "      Aluno  Matematica  Historia  ...  Desafio  Tarefa    País\n",
              "0  Dietrich           5       7.0  ...      1.0    10.0  BRASIL\n",
              "1      hans           4       7.0  ...      7.0    11.0  BRASIL\n",
              "2      hans           4       7.0  ...      7.0    11.0  BRASIL\n",
              "3       mel           6       NaN  ...      9.0    12.0  BRASIL\n",
              "4    Samuel           5       0.0  ...      4.0     NaN  BRASIL\n",
              "\n",
              "[5 rows x 9 columns]"
            ]
          },
          "metadata": {
            "tags": []
          },
          "execution_count": 7
        }
      ]
    },
    {
      "cell_type": "markdown",
      "metadata": {
        "id": "-wbnfP1qbgQl",
        "colab_type": "text"
      },
      "source": [
        "# **Imprimindo as 2 primeiras linhas da nossa Tabela**"
      ]
    },
    {
      "cell_type": "code",
      "metadata": {
        "id": "PSUKHpAsbfbV",
        "colab_type": "code",
        "colab": {
          "base_uri": "https://localhost:8080/",
          "height": 111
        },
        "outputId": "91a97b5d-4759-45ae-c318-26bdab331500"
      },
      "source": [
        "#Basta passar o números de linhas que você quer visualizar no método head()\n",
        "notas.head(2)"
      ],
      "execution_count": null,
      "outputs": [
        {
          "output_type": "execute_result",
          "data": {
            "text/html": [
              "<div>\n",
              "<style scoped>\n",
              "    .dataframe tbody tr th:only-of-type {\n",
              "        vertical-align: middle;\n",
              "    }\n",
              "\n",
              "    .dataframe tbody tr th {\n",
              "        vertical-align: top;\n",
              "    }\n",
              "\n",
              "    .dataframe thead th {\n",
              "        text-align: right;\n",
              "    }\n",
              "</style>\n",
              "<table border=\"1\" class=\"dataframe\">\n",
              "  <thead>\n",
              "    <tr style=\"text-align: right;\">\n",
              "      <th></th>\n",
              "      <th>Aluno</th>\n",
              "      <th>Matematica</th>\n",
              "      <th>Historia</th>\n",
              "      <th>Geografia</th>\n",
              "      <th>informatica</th>\n",
              "      <th>programaçao</th>\n",
              "      <th>Desafio</th>\n",
              "      <th>Tarefa</th>\n",
              "      <th>País</th>\n",
              "    </tr>\n",
              "  </thead>\n",
              "  <tbody>\n",
              "    <tr>\n",
              "      <th>0</th>\n",
              "      <td>Dietrich</td>\n",
              "      <td>5</td>\n",
              "      <td>7.0</td>\n",
              "      <td>NaN</td>\n",
              "      <td>9.0</td>\n",
              "      <td>2</td>\n",
              "      <td>1.0</td>\n",
              "      <td>10.0</td>\n",
              "      <td>BRASIL</td>\n",
              "    </tr>\n",
              "    <tr>\n",
              "      <th>1</th>\n",
              "      <td>hans</td>\n",
              "      <td>4</td>\n",
              "      <td>7.0</td>\n",
              "      <td>NaN</td>\n",
              "      <td>NaN</td>\n",
              "      <td>5</td>\n",
              "      <td>7.0</td>\n",
              "      <td>11.0</td>\n",
              "      <td>BRASIL</td>\n",
              "    </tr>\n",
              "  </tbody>\n",
              "</table>\n",
              "</div>"
            ],
            "text/plain": [
              "      Aluno  Matematica  Historia  ...  Desafio  Tarefa    País\n",
              "0  Dietrich           5       7.0  ...      1.0    10.0  BRASIL\n",
              "1      hans           4       7.0  ...      7.0    11.0  BRASIL\n",
              "\n",
              "[2 rows x 9 columns]"
            ]
          },
          "metadata": {
            "tags": []
          },
          "execution_count": 8
        }
      ]
    },
    {
      "cell_type": "markdown",
      "metadata": {
        "id": "o2XsSoJtVeNm",
        "colab_type": "text"
      },
      "source": [
        "# **Removendo colunas do DataFrame**"
      ]
    },
    {
      "cell_type": "markdown",
      "metadata": {
        "id": "_axdzyCfck8W",
        "colab_type": "text"
      },
      "source": [
        "Por exemplo a coluna \"País\" nao tem nenhuma relevância na nossa base pois o objetivo aqui é trabalhar apenas com as notas dos alunos então vamos eliminar essa coluna.  "
      ]
    },
    {
      "cell_type": "markdown",
      "metadata": {
        "id": "l-hn7O6CeGho",
        "colab_type": "text"
      },
      "source": [
        "**Como eliminar uma coluna do DataFrame usando Python?**\n",
        "a biblioteca **Pandas** disponibiliza o método **drop()** para remover linhas e colunas da tabela."
      ]
    },
    {
      "cell_type": "code",
      "metadata": {
        "id": "h-VO1VqHejjh",
        "colab_type": "code",
        "colab": {}
      },
      "source": [
        "# excluindo a coluna 'Pais'\n",
        "notas.drop('Pais', inplace=True, axis=1)\n"
      ],
      "execution_count": null,
      "outputs": []
    },
    {
      "cell_type": "markdown",
      "metadata": {
        "id": "bxpWoMRRg7a7",
        "colab_type": "text"
      },
      "source": [
        "Dentro do método **drop()** passamos 3 Parâmetros que são :\n",
        "**'Pais'** que é a coluna que queremos excluir , o segundo parâmetro **inplace=True** indica que a alteração irá ocorrer no DataFrame original de forma a não criar outras cópias de DataFrame, **axis=1** indica que a exclusão será aplicada na coluna que passamos no método **drop()**.   "
      ]
    },
    {
      "cell_type": "code",
      "metadata": {
        "id": "-Z2RyNVLfX9C",
        "colab_type": "code",
        "colab": {
          "base_uri": "https://localhost:8080/",
          "height": 204
        },
        "outputId": "0ba37127-f913-4d27-db16-0710865dd29f"
      },
      "source": [
        "# vamos verificar se a coluna Pais foi realmente excluida \n",
        "notas.head()"
      ],
      "execution_count": null,
      "outputs": [
        {
          "output_type": "execute_result",
          "data": {
            "text/html": [
              "<div>\n",
              "<style scoped>\n",
              "    .dataframe tbody tr th:only-of-type {\n",
              "        vertical-align: middle;\n",
              "    }\n",
              "\n",
              "    .dataframe tbody tr th {\n",
              "        vertical-align: top;\n",
              "    }\n",
              "\n",
              "    .dataframe thead th {\n",
              "        text-align: right;\n",
              "    }\n",
              "</style>\n",
              "<table border=\"1\" class=\"dataframe\">\n",
              "  <thead>\n",
              "    <tr style=\"text-align: right;\">\n",
              "      <th></th>\n",
              "      <th>Aluno</th>\n",
              "      <th>Matematica</th>\n",
              "      <th>Historia</th>\n",
              "      <th>Geografia</th>\n",
              "      <th>informatica</th>\n",
              "      <th>programaçao</th>\n",
              "      <th>Desafio</th>\n",
              "      <th>Tarefa</th>\n",
              "    </tr>\n",
              "  </thead>\n",
              "  <tbody>\n",
              "    <tr>\n",
              "      <th>0</th>\n",
              "      <td>Dietrich</td>\n",
              "      <td>5</td>\n",
              "      <td>7.0</td>\n",
              "      <td>NaN</td>\n",
              "      <td>9.0</td>\n",
              "      <td>2</td>\n",
              "      <td>1.0</td>\n",
              "      <td>10.0</td>\n",
              "    </tr>\n",
              "    <tr>\n",
              "      <th>1</th>\n",
              "      <td>hans</td>\n",
              "      <td>4</td>\n",
              "      <td>7.0</td>\n",
              "      <td>NaN</td>\n",
              "      <td>NaN</td>\n",
              "      <td>5</td>\n",
              "      <td>7.0</td>\n",
              "      <td>11.0</td>\n",
              "    </tr>\n",
              "    <tr>\n",
              "      <th>2</th>\n",
              "      <td>hans</td>\n",
              "      <td>4</td>\n",
              "      <td>7.0</td>\n",
              "      <td>NaN</td>\n",
              "      <td>NaN</td>\n",
              "      <td>5</td>\n",
              "      <td>7.0</td>\n",
              "      <td>11.0</td>\n",
              "    </tr>\n",
              "    <tr>\n",
              "      <th>3</th>\n",
              "      <td>mel</td>\n",
              "      <td>6</td>\n",
              "      <td>NaN</td>\n",
              "      <td>12.0</td>\n",
              "      <td>NaN</td>\n",
              "      <td>10</td>\n",
              "      <td>9.0</td>\n",
              "      <td>12.0</td>\n",
              "    </tr>\n",
              "    <tr>\n",
              "      <th>4</th>\n",
              "      <td>Samuel</td>\n",
              "      <td>5</td>\n",
              "      <td>0.0</td>\n",
              "      <td>4.0</td>\n",
              "      <td>5.0</td>\n",
              "      <td>8</td>\n",
              "      <td>4.0</td>\n",
              "      <td>NaN</td>\n",
              "    </tr>\n",
              "  </tbody>\n",
              "</table>\n",
              "</div>"
            ],
            "text/plain": [
              "      Aluno  Matematica  Historia  ...  programaçao  Desafio  Tarefa\n",
              "0  Dietrich           5       7.0  ...            2      1.0    10.0\n",
              "1      hans           4       7.0  ...            5      7.0    11.0\n",
              "2      hans           4       7.0  ...            5      7.0    11.0\n",
              "3       mel           6       NaN  ...           10      9.0    12.0\n",
              "4    Samuel           5       0.0  ...            8      4.0     NaN\n",
              "\n",
              "[5 rows x 8 columns]"
            ]
          },
          "metadata": {
            "tags": []
          },
          "execution_count": 49
        }
      ]
    },
    {
      "cell_type": "markdown",
      "metadata": {
        "id": "9g4AgQYASzFH",
        "colab_type": "text"
      },
      "source": [
        "# **Verificando linhas duplicadas** "
      ]
    },
    {
      "cell_type": "markdown",
      "metadata": {
        "id": "qU3Gry0_S_-5",
        "colab_type": "text"
      },
      "source": [
        "Basta usar o metodo **.duplicated()** Ele retorna True quando há uma linha duplicada"
      ]
    },
    {
      "cell_type": "code",
      "metadata": {
        "id": "N6FzTImLTMQA",
        "colab_type": "code",
        "colab": {
          "base_uri": "https://localhost:8080/",
          "height": 136
        },
        "outputId": "71d1c87e-677e-4e22-c822-709b99fcc2b6"
      },
      "source": [
        "notas.duplicated()"
      ],
      "execution_count": null,
      "outputs": [
        {
          "output_type": "execute_result",
          "data": {
            "text/plain": [
              "0    False\n",
              "1    False\n",
              "2     True\n",
              "3    False\n",
              "4    False\n",
              "5    False\n",
              "dtype: bool"
            ]
          },
          "metadata": {
            "tags": []
          },
          "execution_count": 50
        }
      ]
    },
    {
      "cell_type": "markdown",
      "metadata": {
        "id": "f9YZlHSgVBd6",
        "colab_type": "text"
      },
      "source": [
        "# **Excluindo linhas duplicadas**"
      ]
    },
    {
      "cell_type": "markdown",
      "metadata": {
        "id": "WCyxVYkFVSVi",
        "colab_type": "text"
      },
      "source": [
        "O metodo **drop_duplicates()** permite elimar as linhas duplicadas no DataFrame "
      ]
    },
    {
      "cell_type": "code",
      "metadata": {
        "id": "gA3Ow7fBVl0r",
        "colab_type": "code",
        "colab": {
          "base_uri": "https://localhost:8080/",
          "height": 204
        },
        "outputId": "0d93255d-4e8d-41f8-9928-d59594f5b8cc"
      },
      "source": [
        "# Eliminando linhas duplicadas\n",
        "notas.drop_duplicates(inplace=True) ### inplace =True remove linhas duplicadas\n",
        "notas"
      ],
      "execution_count": null,
      "outputs": [
        {
          "output_type": "execute_result",
          "data": {
            "text/html": [
              "<div>\n",
              "<style scoped>\n",
              "    .dataframe tbody tr th:only-of-type {\n",
              "        vertical-align: middle;\n",
              "    }\n",
              "\n",
              "    .dataframe tbody tr th {\n",
              "        vertical-align: top;\n",
              "    }\n",
              "\n",
              "    .dataframe thead th {\n",
              "        text-align: right;\n",
              "    }\n",
              "</style>\n",
              "<table border=\"1\" class=\"dataframe\">\n",
              "  <thead>\n",
              "    <tr style=\"text-align: right;\">\n",
              "      <th></th>\n",
              "      <th>Aluno</th>\n",
              "      <th>Matematica</th>\n",
              "      <th>Historia</th>\n",
              "      <th>Geografia</th>\n",
              "      <th>informatica</th>\n",
              "      <th>programaçao</th>\n",
              "      <th>Desafio</th>\n",
              "      <th>Tarefa</th>\n",
              "      <th>País</th>\n",
              "    </tr>\n",
              "  </thead>\n",
              "  <tbody>\n",
              "    <tr>\n",
              "      <th>0</th>\n",
              "      <td>Dietrich</td>\n",
              "      <td>5</td>\n",
              "      <td>7.0</td>\n",
              "      <td>NaN</td>\n",
              "      <td>9.0</td>\n",
              "      <td>2</td>\n",
              "      <td>1.0</td>\n",
              "      <td>10.0</td>\n",
              "      <td>BRASIL</td>\n",
              "    </tr>\n",
              "    <tr>\n",
              "      <th>1</th>\n",
              "      <td>hans</td>\n",
              "      <td>4</td>\n",
              "      <td>7.0</td>\n",
              "      <td>NaN</td>\n",
              "      <td>NaN</td>\n",
              "      <td>5</td>\n",
              "      <td>7.0</td>\n",
              "      <td>11.0</td>\n",
              "      <td>BRASIL</td>\n",
              "    </tr>\n",
              "    <tr>\n",
              "      <th>3</th>\n",
              "      <td>mel</td>\n",
              "      <td>6</td>\n",
              "      <td>NaN</td>\n",
              "      <td>12.0</td>\n",
              "      <td>NaN</td>\n",
              "      <td>10</td>\n",
              "      <td>9.0</td>\n",
              "      <td>12.0</td>\n",
              "      <td>BRASIL</td>\n",
              "    </tr>\n",
              "    <tr>\n",
              "      <th>4</th>\n",
              "      <td>Samuel</td>\n",
              "      <td>5</td>\n",
              "      <td>0.0</td>\n",
              "      <td>4.0</td>\n",
              "      <td>5.0</td>\n",
              "      <td>8</td>\n",
              "      <td>4.0</td>\n",
              "      <td>NaN</td>\n",
              "      <td>BRASIL</td>\n",
              "    </tr>\n",
              "    <tr>\n",
              "      <th>5</th>\n",
              "      <td>junior</td>\n",
              "      <td>7</td>\n",
              "      <td>1.0</td>\n",
              "      <td>5.0</td>\n",
              "      <td>7.5</td>\n",
              "      <td>3</td>\n",
              "      <td>4.6</td>\n",
              "      <td>5.0</td>\n",
              "      <td>BRASIL</td>\n",
              "    </tr>\n",
              "  </tbody>\n",
              "</table>\n",
              "</div>"
            ],
            "text/plain": [
              "      Aluno  Matematica  Historia  ...  Desafio  Tarefa    País\n",
              "0  Dietrich           5       7.0  ...      1.0    10.0  BRASIL\n",
              "1      hans           4       7.0  ...      7.0    11.0  BRASIL\n",
              "3       mel           6       NaN  ...      9.0    12.0  BRASIL\n",
              "4    Samuel           5       0.0  ...      4.0     NaN  BRASIL\n",
              "5    junior           7       1.0  ...      4.6     5.0  BRASIL\n",
              "\n",
              "[5 rows x 9 columns]"
            ]
          },
          "metadata": {
            "tags": []
          },
          "execution_count": 11
        }
      ]
    },
    {
      "cell_type": "code",
      "metadata": {
        "id": "DoF-7APAVOw4",
        "colab_type": "code",
        "colab": {}
      },
      "source": [
        ""
      ],
      "execution_count": null,
      "outputs": []
    },
    {
      "cell_type": "markdown",
      "metadata": {
        "id": "E6A4KosBj4xx",
        "colab_type": "text"
      },
      "source": [
        "# **Identificando  dados ausentes (dados faltantes)**"
      ]
    },
    {
      "cell_type": "markdown",
      "metadata": {
        "id": "JjpmfN4tkE7U",
        "colab_type": "text"
      },
      "source": [
        "O que são Dados ausentes? são valores representados pelo valor de ponto flutuante [NaN](https://pt.wikipedia.org/wiki/NaN) (acrônimo em inglês para **Not** **a** **Number**) significa que um determinado compo está vazio no nosso DataFrame. podem ter NaN quando acontece um erro durante a coleta dos dados,  erros de processamento ou outros inúmeros fatores. "
      ]
    },
    {
      "cell_type": "markdown",
      "metadata": {
        "id": "5Wj-O7qZoN2E",
        "colab_type": "text"
      },
      "source": [
        "**Como identificar valores NaN ?** Basta usar o metodo **isnull()** ele retornará **True** caso encontre valores do tipo **NaN** ou seja quando um campo está vazio."
      ]
    },
    {
      "cell_type": "code",
      "metadata": {
        "id": "cErWeXRBVlSL",
        "colab_type": "code",
        "colab": {
          "base_uri": "https://localhost:8080/",
          "height": 235
        },
        "outputId": "2882fe73-5f68-4ff5-810e-42b178243d02"
      },
      "source": [
        "# identificando os valores NaN na nossa Tabela. \n",
        "notas.isnull()"
      ],
      "execution_count": null,
      "outputs": [
        {
          "output_type": "execute_result",
          "data": {
            "text/html": [
              "<div>\n",
              "<style scoped>\n",
              "    .dataframe tbody tr th:only-of-type {\n",
              "        vertical-align: middle;\n",
              "    }\n",
              "\n",
              "    .dataframe tbody tr th {\n",
              "        vertical-align: top;\n",
              "    }\n",
              "\n",
              "    .dataframe thead th {\n",
              "        text-align: right;\n",
              "    }\n",
              "</style>\n",
              "<table border=\"1\" class=\"dataframe\">\n",
              "  <thead>\n",
              "    <tr style=\"text-align: right;\">\n",
              "      <th></th>\n",
              "      <th>Aluno</th>\n",
              "      <th>Matematica</th>\n",
              "      <th>Historia</th>\n",
              "      <th>Geografia</th>\n",
              "      <th>informatica</th>\n",
              "      <th>programaçao</th>\n",
              "      <th>Desafio</th>\n",
              "      <th>Tarefa</th>\n",
              "    </tr>\n",
              "  </thead>\n",
              "  <tbody>\n",
              "    <tr>\n",
              "      <th>0</th>\n",
              "      <td>False</td>\n",
              "      <td>False</td>\n",
              "      <td>False</td>\n",
              "      <td>True</td>\n",
              "      <td>False</td>\n",
              "      <td>False</td>\n",
              "      <td>False</td>\n",
              "      <td>False</td>\n",
              "    </tr>\n",
              "    <tr>\n",
              "      <th>1</th>\n",
              "      <td>False</td>\n",
              "      <td>False</td>\n",
              "      <td>False</td>\n",
              "      <td>True</td>\n",
              "      <td>True</td>\n",
              "      <td>False</td>\n",
              "      <td>False</td>\n",
              "      <td>False</td>\n",
              "    </tr>\n",
              "    <tr>\n",
              "      <th>2</th>\n",
              "      <td>False</td>\n",
              "      <td>False</td>\n",
              "      <td>False</td>\n",
              "      <td>True</td>\n",
              "      <td>True</td>\n",
              "      <td>False</td>\n",
              "      <td>False</td>\n",
              "      <td>False</td>\n",
              "    </tr>\n",
              "    <tr>\n",
              "      <th>3</th>\n",
              "      <td>False</td>\n",
              "      <td>False</td>\n",
              "      <td>True</td>\n",
              "      <td>False</td>\n",
              "      <td>True</td>\n",
              "      <td>False</td>\n",
              "      <td>False</td>\n",
              "      <td>False</td>\n",
              "    </tr>\n",
              "    <tr>\n",
              "      <th>4</th>\n",
              "      <td>False</td>\n",
              "      <td>False</td>\n",
              "      <td>False</td>\n",
              "      <td>False</td>\n",
              "      <td>False</td>\n",
              "      <td>False</td>\n",
              "      <td>False</td>\n",
              "      <td>True</td>\n",
              "    </tr>\n",
              "    <tr>\n",
              "      <th>5</th>\n",
              "      <td>False</td>\n",
              "      <td>False</td>\n",
              "      <td>False</td>\n",
              "      <td>False</td>\n",
              "      <td>False</td>\n",
              "      <td>False</td>\n",
              "      <td>False</td>\n",
              "      <td>False</td>\n",
              "    </tr>\n",
              "  </tbody>\n",
              "</table>\n",
              "</div>"
            ],
            "text/plain": [
              "   Aluno  Matematica  Historia  ...  programaçao  Desafio  Tarefa\n",
              "0  False       False     False  ...        False    False   False\n",
              "1  False       False     False  ...        False    False   False\n",
              "2  False       False     False  ...        False    False   False\n",
              "3  False       False      True  ...        False    False   False\n",
              "4  False       False     False  ...        False    False    True\n",
              "5  False       False     False  ...        False    False   False\n",
              "\n",
              "[6 rows x 8 columns]"
            ]
          },
          "metadata": {
            "tags": []
          },
          "execution_count": 52
        }
      ]
    },
    {
      "cell_type": "markdown",
      "metadata": {
        "id": "4vhjaM-WrpVr",
        "colab_type": "text"
      },
      "source": [
        "# **Visualizando Melhor os valores NaN** "
      ]
    },
    {
      "cell_type": "markdown",
      "metadata": {
        "id": "PZfkePNysOdb",
        "colab_type": "text"
      },
      "source": [
        "Para visualizar melhore os valores **NaN** vamos usar o metodo **isnull().sum()**. Esse metodo retorna o **total de valores** **NaN** **em** **cada coluna** "
      ]
    },
    {
      "cell_type": "code",
      "metadata": {
        "id": "KnqA0mAHtO83",
        "colab_type": "code",
        "colab": {
          "base_uri": "https://localhost:8080/",
          "height": 170
        },
        "outputId": "6da50bae-a877-4b67-d034-e562bf7cc0a8"
      },
      "source": [
        "# visualiando  o total de valores NaN em cada coluna\n",
        "notas.isnull().sum()"
      ],
      "execution_count": null,
      "outputs": [
        {
          "output_type": "execute_result",
          "data": {
            "text/plain": [
              "Aluno          0\n",
              "Matematica     0\n",
              "Historia       1\n",
              "Geografia      3\n",
              "informatica    3\n",
              "programaçao    0\n",
              "Desafio        0\n",
              "Tarefa         1\n",
              "dtype: int64"
            ]
          },
          "metadata": {
            "tags": []
          },
          "execution_count": 53
        }
      ]
    },
    {
      "cell_type": "markdown",
      "metadata": {
        "id": "h6dAjrd8wQR0",
        "colab_type": "text"
      },
      "source": [
        "# **Filtrando os valores nulos NaN**"
      ]
    },
    {
      "cell_type": "markdown",
      "metadata": {
        "id": "Y8ZIYZ1exI5l",
        "colab_type": "text"
      },
      "source": [
        "Usaremos o metodo **dropna()**, que permite que somente as linhas  contendo um valor ausente (NaN) sejam eliminadas . Esse metodo é aplicado quando queremos que a Base de dados seja tratada eliminando todos os valores **NaN**. Na prática, vocẽ nunca fará isso pois poderá perder boa parte das sua base. O que se faz é tentar preencher esses \"buracos\" de alguma maneira."
      ]
    },
    {
      "cell_type": "code",
      "metadata": {
        "id": "sKA19lAcwvqX",
        "colab_type": "code",
        "colab": {
          "base_uri": "https://localhost:8080/",
          "height": 80
        },
        "outputId": "fafd97ce-f7de-418a-ee33-5335edf532cd"
      },
      "source": [
        "# eliminando todas as linhas com valores NaN\n",
        "notas.dropna()"
      ],
      "execution_count": null,
      "outputs": [
        {
          "output_type": "execute_result",
          "data": {
            "text/html": [
              "<div>\n",
              "<style scoped>\n",
              "    .dataframe tbody tr th:only-of-type {\n",
              "        vertical-align: middle;\n",
              "    }\n",
              "\n",
              "    .dataframe tbody tr th {\n",
              "        vertical-align: top;\n",
              "    }\n",
              "\n",
              "    .dataframe thead th {\n",
              "        text-align: right;\n",
              "    }\n",
              "</style>\n",
              "<table border=\"1\" class=\"dataframe\">\n",
              "  <thead>\n",
              "    <tr style=\"text-align: right;\">\n",
              "      <th></th>\n",
              "      <th>Aluno</th>\n",
              "      <th>Matematica</th>\n",
              "      <th>Historia</th>\n",
              "      <th>Geografia</th>\n",
              "      <th>informatica</th>\n",
              "      <th>programaçao</th>\n",
              "      <th>Desafio</th>\n",
              "      <th>Tarefa</th>\n",
              "    </tr>\n",
              "  </thead>\n",
              "  <tbody>\n",
              "    <tr>\n",
              "      <th>5</th>\n",
              "      <td>junior</td>\n",
              "      <td>7</td>\n",
              "      <td>1.0</td>\n",
              "      <td>5.0</td>\n",
              "      <td>7.5</td>\n",
              "      <td>3</td>\n",
              "      <td>4.6</td>\n",
              "      <td>5.0</td>\n",
              "    </tr>\n",
              "  </tbody>\n",
              "</table>\n",
              "</div>"
            ],
            "text/plain": [
              "    Aluno  Matematica  Historia  ...  programaçao  Desafio  Tarefa\n",
              "5  junior           7       1.0  ...            3      4.6     5.0\n",
              "\n",
              "[1 rows x 8 columns]"
            ]
          },
          "metadata": {
            "tags": []
          },
          "execution_count": 54
        }
      ]
    },
    {
      "cell_type": "markdown",
      "metadata": {
        "id": "Sh3Qcyuv0e6D",
        "colab_type": "text"
      },
      "source": [
        "# **Retorna as linhas onde todos os elementos estão ausentes**"
      ]
    },
    {
      "cell_type": "markdown",
      "metadata": {
        "id": "_XQ_L0j70-5e",
        "colab_type": "text"
      },
      "source": [
        "Vamos usar o parâmetro **how='all'** Retorna as linhas onde todos os elementos estão ausentes"
      ]
    },
    {
      "cell_type": "code",
      "metadata": {
        "id": "LErHQoEz1kjt",
        "colab_type": "code",
        "colab": {
          "base_uri": "https://localhost:8080/",
          "height": 204
        },
        "outputId": "2303007a-7d76-458a-e41e-71acf4370756"
      },
      "source": [
        "# Retorna as linhas onde todos os elementos estão ausentes\n",
        "notas.dropna(how='all')"
      ],
      "execution_count": null,
      "outputs": [
        {
          "output_type": "execute_result",
          "data": {
            "text/html": [
              "<div>\n",
              "<style scoped>\n",
              "    .dataframe tbody tr th:only-of-type {\n",
              "        vertical-align: middle;\n",
              "    }\n",
              "\n",
              "    .dataframe tbody tr th {\n",
              "        vertical-align: top;\n",
              "    }\n",
              "\n",
              "    .dataframe thead th {\n",
              "        text-align: right;\n",
              "    }\n",
              "</style>\n",
              "<table border=\"1\" class=\"dataframe\">\n",
              "  <thead>\n",
              "    <tr style=\"text-align: right;\">\n",
              "      <th></th>\n",
              "      <th>Aluno</th>\n",
              "      <th>Matematica</th>\n",
              "      <th>Historia</th>\n",
              "      <th>Geografia</th>\n",
              "      <th>informatica</th>\n",
              "      <th>programaçao</th>\n",
              "      <th>Desafio</th>\n",
              "      <th>Tarefa</th>\n",
              "      <th>País</th>\n",
              "    </tr>\n",
              "  </thead>\n",
              "  <tbody>\n",
              "    <tr>\n",
              "      <th>0</th>\n",
              "      <td>Dietrich</td>\n",
              "      <td>5</td>\n",
              "      <td>7.0</td>\n",
              "      <td>NaN</td>\n",
              "      <td>9.0</td>\n",
              "      <td>2</td>\n",
              "      <td>1.0</td>\n",
              "      <td>10.0</td>\n",
              "      <td>BRASIL</td>\n",
              "    </tr>\n",
              "    <tr>\n",
              "      <th>1</th>\n",
              "      <td>hans</td>\n",
              "      <td>4</td>\n",
              "      <td>7.0</td>\n",
              "      <td>NaN</td>\n",
              "      <td>NaN</td>\n",
              "      <td>5</td>\n",
              "      <td>7.0</td>\n",
              "      <td>11.0</td>\n",
              "      <td>BRASIL</td>\n",
              "    </tr>\n",
              "    <tr>\n",
              "      <th>3</th>\n",
              "      <td>mel</td>\n",
              "      <td>6</td>\n",
              "      <td>NaN</td>\n",
              "      <td>12.0</td>\n",
              "      <td>NaN</td>\n",
              "      <td>10</td>\n",
              "      <td>9.0</td>\n",
              "      <td>12.0</td>\n",
              "      <td>BRASIL</td>\n",
              "    </tr>\n",
              "    <tr>\n",
              "      <th>4</th>\n",
              "      <td>Samuel</td>\n",
              "      <td>5</td>\n",
              "      <td>0.0</td>\n",
              "      <td>4.0</td>\n",
              "      <td>5.0</td>\n",
              "      <td>8</td>\n",
              "      <td>4.0</td>\n",
              "      <td>NaN</td>\n",
              "      <td>BRASIL</td>\n",
              "    </tr>\n",
              "    <tr>\n",
              "      <th>5</th>\n",
              "      <td>junior</td>\n",
              "      <td>7</td>\n",
              "      <td>1.0</td>\n",
              "      <td>5.0</td>\n",
              "      <td>7.5</td>\n",
              "      <td>3</td>\n",
              "      <td>4.6</td>\n",
              "      <td>5.0</td>\n",
              "      <td>BRASIL</td>\n",
              "    </tr>\n",
              "  </tbody>\n",
              "</table>\n",
              "</div>"
            ],
            "text/plain": [
              "      Aluno  Matematica  Historia  ...  Desafio  Tarefa    País\n",
              "0  Dietrich           5       7.0  ...      1.0    10.0  BRASIL\n",
              "1      hans           4       7.0  ...      7.0    11.0  BRASIL\n",
              "3       mel           6       NaN  ...      9.0    12.0  BRASIL\n",
              "4    Samuel           5       0.0  ...      4.0     NaN  BRASIL\n",
              "5    junior           7       1.0  ...      4.6     5.0  BRASIL\n",
              "\n",
              "[5 rows x 9 columns]"
            ]
          },
          "metadata": {
            "tags": []
          },
          "execution_count": 12
        }
      ]
    },
    {
      "cell_type": "markdown",
      "metadata": {
        "id": "PkPcsmm44SnK",
        "colab_type": "text"
      },
      "source": [
        "# **Como Preencher valores nulos ?**"
      ]
    },
    {
      "cell_type": "markdown",
      "metadata": {
        "id": "nV3NHORG4c0Q",
        "colab_type": "text"
      },
      "source": [
        "**há várias maneiras de preencher valores nulos**"
      ]
    },
    {
      "cell_type": "markdown",
      "metadata": {
        "id": "p6PjXYYa5WbQ",
        "colab_type": "text"
      },
      "source": [
        "**1-** Usando o metodo **fillna()** voce pode passar um **valor** que irá substituir o  **NaN** na Tabela"
      ]
    },
    {
      "cell_type": "code",
      "metadata": {
        "id": "XgxdWG-xdunl",
        "colab_type": "code",
        "colab": {
          "base_uri": "https://localhost:8080/",
          "height": 204
        },
        "outputId": "9b8514a0-630e-4f50-9127-d825c3920659"
      },
      "source": [
        "## Digamos que você queirar trocar todos os NaN por -9999\n",
        "notas.fillna(-9999)"
      ],
      "execution_count": null,
      "outputs": [
        {
          "output_type": "execute_result",
          "data": {
            "text/html": [
              "<div>\n",
              "<style scoped>\n",
              "    .dataframe tbody tr th:only-of-type {\n",
              "        vertical-align: middle;\n",
              "    }\n",
              "\n",
              "    .dataframe tbody tr th {\n",
              "        vertical-align: top;\n",
              "    }\n",
              "\n",
              "    .dataframe thead th {\n",
              "        text-align: right;\n",
              "    }\n",
              "</style>\n",
              "<table border=\"1\" class=\"dataframe\">\n",
              "  <thead>\n",
              "    <tr style=\"text-align: right;\">\n",
              "      <th></th>\n",
              "      <th>Aluno</th>\n",
              "      <th>Matematica</th>\n",
              "      <th>Historia</th>\n",
              "      <th>Geografia</th>\n",
              "      <th>informatica</th>\n",
              "      <th>programaçao</th>\n",
              "      <th>Desafio</th>\n",
              "      <th>Tarefa</th>\n",
              "      <th>País</th>\n",
              "    </tr>\n",
              "  </thead>\n",
              "  <tbody>\n",
              "    <tr>\n",
              "      <th>0</th>\n",
              "      <td>Dietrich</td>\n",
              "      <td>5</td>\n",
              "      <td>7.0</td>\n",
              "      <td>-9999.0</td>\n",
              "      <td>9.0</td>\n",
              "      <td>2</td>\n",
              "      <td>1.0</td>\n",
              "      <td>10.0</td>\n",
              "      <td>BRASIL</td>\n",
              "    </tr>\n",
              "    <tr>\n",
              "      <th>1</th>\n",
              "      <td>hans</td>\n",
              "      <td>4</td>\n",
              "      <td>7.0</td>\n",
              "      <td>-9999.0</td>\n",
              "      <td>-9999.0</td>\n",
              "      <td>5</td>\n",
              "      <td>7.0</td>\n",
              "      <td>11.0</td>\n",
              "      <td>BRASIL</td>\n",
              "    </tr>\n",
              "    <tr>\n",
              "      <th>3</th>\n",
              "      <td>mel</td>\n",
              "      <td>6</td>\n",
              "      <td>-9999.0</td>\n",
              "      <td>12.0</td>\n",
              "      <td>-9999.0</td>\n",
              "      <td>10</td>\n",
              "      <td>9.0</td>\n",
              "      <td>12.0</td>\n",
              "      <td>BRASIL</td>\n",
              "    </tr>\n",
              "    <tr>\n",
              "      <th>4</th>\n",
              "      <td>Samuel</td>\n",
              "      <td>5</td>\n",
              "      <td>0.0</td>\n",
              "      <td>4.0</td>\n",
              "      <td>5.0</td>\n",
              "      <td>8</td>\n",
              "      <td>4.0</td>\n",
              "      <td>-9999.0</td>\n",
              "      <td>BRASIL</td>\n",
              "    </tr>\n",
              "    <tr>\n",
              "      <th>5</th>\n",
              "      <td>junior</td>\n",
              "      <td>7</td>\n",
              "      <td>1.0</td>\n",
              "      <td>5.0</td>\n",
              "      <td>7.5</td>\n",
              "      <td>3</td>\n",
              "      <td>4.6</td>\n",
              "      <td>5.0</td>\n",
              "      <td>BRASIL</td>\n",
              "    </tr>\n",
              "  </tbody>\n",
              "</table>\n",
              "</div>"
            ],
            "text/plain": [
              "      Aluno  Matematica  Historia  ...  Desafio  Tarefa    País\n",
              "0  Dietrich           5       7.0  ...      1.0    10.0  BRASIL\n",
              "1      hans           4       7.0  ...      7.0    11.0  BRASIL\n",
              "3       mel           6   -9999.0  ...      9.0    12.0  BRASIL\n",
              "4    Samuel           5       0.0  ...      4.0 -9999.0  BRASIL\n",
              "5    junior           7       1.0  ...      4.6     5.0  BRASIL\n",
              "\n",
              "[5 rows x 9 columns]"
            ]
          },
          "metadata": {
            "tags": []
          },
          "execution_count": 13
        }
      ]
    },
    {
      "cell_type": "markdown",
      "metadata": {
        "id": "czjNohH3Ehpx",
        "colab_type": "text"
      },
      "source": [
        "**2-** Prenchendo com a mediana de cada coluna usando o **metodo median()**"
      ]
    },
    {
      "cell_type": "code",
      "metadata": {
        "id": "Aq20MGFod-bo",
        "colab_type": "code",
        "colab": {
          "base_uri": "https://localhost:8080/",
          "height": 204
        },
        "outputId": "b1904cbb-ea04-4ddf-85a7-ae53e579e91c"
      },
      "source": [
        "notas.fillna(notas.median())"
      ],
      "execution_count": null,
      "outputs": [
        {
          "output_type": "execute_result",
          "data": {
            "text/html": [
              "<div>\n",
              "<style scoped>\n",
              "    .dataframe tbody tr th:only-of-type {\n",
              "        vertical-align: middle;\n",
              "    }\n",
              "\n",
              "    .dataframe tbody tr th {\n",
              "        vertical-align: top;\n",
              "    }\n",
              "\n",
              "    .dataframe thead th {\n",
              "        text-align: right;\n",
              "    }\n",
              "</style>\n",
              "<table border=\"1\" class=\"dataframe\">\n",
              "  <thead>\n",
              "    <tr style=\"text-align: right;\">\n",
              "      <th></th>\n",
              "      <th>Aluno</th>\n",
              "      <th>Matematica</th>\n",
              "      <th>Historia</th>\n",
              "      <th>Geografia</th>\n",
              "      <th>informatica</th>\n",
              "      <th>programaçao</th>\n",
              "      <th>Desafio</th>\n",
              "      <th>Tarefa</th>\n",
              "      <th>País</th>\n",
              "    </tr>\n",
              "  </thead>\n",
              "  <tbody>\n",
              "    <tr>\n",
              "      <th>0</th>\n",
              "      <td>Dietrich</td>\n",
              "      <td>5</td>\n",
              "      <td>7.0</td>\n",
              "      <td>5.0</td>\n",
              "      <td>9.0</td>\n",
              "      <td>2</td>\n",
              "      <td>1.0</td>\n",
              "      <td>10.0</td>\n",
              "      <td>BRASIL</td>\n",
              "    </tr>\n",
              "    <tr>\n",
              "      <th>1</th>\n",
              "      <td>hans</td>\n",
              "      <td>4</td>\n",
              "      <td>7.0</td>\n",
              "      <td>5.0</td>\n",
              "      <td>7.5</td>\n",
              "      <td>5</td>\n",
              "      <td>7.0</td>\n",
              "      <td>11.0</td>\n",
              "      <td>BRASIL</td>\n",
              "    </tr>\n",
              "    <tr>\n",
              "      <th>3</th>\n",
              "      <td>mel</td>\n",
              "      <td>6</td>\n",
              "      <td>4.0</td>\n",
              "      <td>12.0</td>\n",
              "      <td>7.5</td>\n",
              "      <td>10</td>\n",
              "      <td>9.0</td>\n",
              "      <td>12.0</td>\n",
              "      <td>BRASIL</td>\n",
              "    </tr>\n",
              "    <tr>\n",
              "      <th>4</th>\n",
              "      <td>Samuel</td>\n",
              "      <td>5</td>\n",
              "      <td>0.0</td>\n",
              "      <td>4.0</td>\n",
              "      <td>5.0</td>\n",
              "      <td>8</td>\n",
              "      <td>4.0</td>\n",
              "      <td>10.5</td>\n",
              "      <td>BRASIL</td>\n",
              "    </tr>\n",
              "    <tr>\n",
              "      <th>5</th>\n",
              "      <td>junior</td>\n",
              "      <td>7</td>\n",
              "      <td>1.0</td>\n",
              "      <td>5.0</td>\n",
              "      <td>7.5</td>\n",
              "      <td>3</td>\n",
              "      <td>4.6</td>\n",
              "      <td>5.0</td>\n",
              "      <td>BRASIL</td>\n",
              "    </tr>\n",
              "  </tbody>\n",
              "</table>\n",
              "</div>"
            ],
            "text/plain": [
              "      Aluno  Matematica  Historia  ...  Desafio  Tarefa    País\n",
              "0  Dietrich           5       7.0  ...      1.0    10.0  BRASIL\n",
              "1      hans           4       7.0  ...      7.0    11.0  BRASIL\n",
              "3       mel           6       4.0  ...      9.0    12.0  BRASIL\n",
              "4    Samuel           5       0.0  ...      4.0    10.5  BRASIL\n",
              "5    junior           7       1.0  ...      4.6     5.0  BRASIL\n",
              "\n",
              "[5 rows x 9 columns]"
            ]
          },
          "metadata": {
            "tags": []
          },
          "execution_count": 14
        }
      ]
    },
    {
      "cell_type": "markdown",
      "metadata": {
        "id": "WtJkb0Yr_hcJ",
        "colab_type": "text"
      },
      "source": [
        "**3-** Prenchendo com a **media** de cada coluna usando o metodo **mean()**"
      ]
    },
    {
      "cell_type": "code",
      "metadata": {
        "id": "-gNYGiRH00WY",
        "colab_type": "code",
        "colab": {
          "base_uri": "https://localhost:8080/",
          "height": 204
        },
        "outputId": "206be416-77bb-4889-8733-19dd5d475f28"
      },
      "source": [
        " notas.fillna(notas.mean())\n",
        "\n"
      ],
      "execution_count": null,
      "outputs": [
        {
          "output_type": "execute_result",
          "data": {
            "text/html": [
              "<div>\n",
              "<style scoped>\n",
              "    .dataframe tbody tr th:only-of-type {\n",
              "        vertical-align: middle;\n",
              "    }\n",
              "\n",
              "    .dataframe tbody tr th {\n",
              "        vertical-align: top;\n",
              "    }\n",
              "\n",
              "    .dataframe thead th {\n",
              "        text-align: right;\n",
              "    }\n",
              "</style>\n",
              "<table border=\"1\" class=\"dataframe\">\n",
              "  <thead>\n",
              "    <tr style=\"text-align: right;\">\n",
              "      <th></th>\n",
              "      <th>Aluno</th>\n",
              "      <th>Matematica</th>\n",
              "      <th>Historia</th>\n",
              "      <th>Geografia</th>\n",
              "      <th>informatica</th>\n",
              "      <th>programaçao</th>\n",
              "      <th>Desafio</th>\n",
              "      <th>Tarefa</th>\n",
              "      <th>País</th>\n",
              "    </tr>\n",
              "  </thead>\n",
              "  <tbody>\n",
              "    <tr>\n",
              "      <th>0</th>\n",
              "      <td>Dietrich</td>\n",
              "      <td>5</td>\n",
              "      <td>7.00</td>\n",
              "      <td>7.0</td>\n",
              "      <td>9.000000</td>\n",
              "      <td>2</td>\n",
              "      <td>1.0</td>\n",
              "      <td>10.0</td>\n",
              "      <td>BRASIL</td>\n",
              "    </tr>\n",
              "    <tr>\n",
              "      <th>1</th>\n",
              "      <td>hans</td>\n",
              "      <td>4</td>\n",
              "      <td>7.00</td>\n",
              "      <td>7.0</td>\n",
              "      <td>7.166667</td>\n",
              "      <td>5</td>\n",
              "      <td>7.0</td>\n",
              "      <td>11.0</td>\n",
              "      <td>BRASIL</td>\n",
              "    </tr>\n",
              "    <tr>\n",
              "      <th>3</th>\n",
              "      <td>mel</td>\n",
              "      <td>6</td>\n",
              "      <td>3.75</td>\n",
              "      <td>12.0</td>\n",
              "      <td>7.166667</td>\n",
              "      <td>10</td>\n",
              "      <td>9.0</td>\n",
              "      <td>12.0</td>\n",
              "      <td>BRASIL</td>\n",
              "    </tr>\n",
              "    <tr>\n",
              "      <th>4</th>\n",
              "      <td>Samuel</td>\n",
              "      <td>5</td>\n",
              "      <td>0.00</td>\n",
              "      <td>4.0</td>\n",
              "      <td>5.000000</td>\n",
              "      <td>8</td>\n",
              "      <td>4.0</td>\n",
              "      <td>9.5</td>\n",
              "      <td>BRASIL</td>\n",
              "    </tr>\n",
              "    <tr>\n",
              "      <th>5</th>\n",
              "      <td>junior</td>\n",
              "      <td>7</td>\n",
              "      <td>1.00</td>\n",
              "      <td>5.0</td>\n",
              "      <td>7.500000</td>\n",
              "      <td>3</td>\n",
              "      <td>4.6</td>\n",
              "      <td>5.0</td>\n",
              "      <td>BRASIL</td>\n",
              "    </tr>\n",
              "  </tbody>\n",
              "</table>\n",
              "</div>"
            ],
            "text/plain": [
              "      Aluno  Matematica  Historia  ...  Desafio  Tarefa    País\n",
              "0  Dietrich           5      7.00  ...      1.0    10.0  BRASIL\n",
              "1      hans           4      7.00  ...      7.0    11.0  BRASIL\n",
              "3       mel           6      3.75  ...      9.0    12.0  BRASIL\n",
              "4    Samuel           5      0.00  ...      4.0     9.5  BRASIL\n",
              "5    junior           7      1.00  ...      4.6     5.0  BRASIL\n",
              "\n",
              "[5 rows x 9 columns]"
            ]
          },
          "metadata": {
            "tags": []
          },
          "execution_count": 15
        }
      ]
    },
    {
      "cell_type": "markdown",
      "metadata": {
        "id": "eT7J1AHNM66R",
        "colab_type": "text"
      },
      "source": [
        "# **Alterando o índice do DataFrame**"
      ]
    },
    {
      "cell_type": "markdown",
      "metadata": {
        "id": "BAi54vRbNU9V",
        "colab_type": "text"
      },
      "source": [
        "Vamos substituir o índice pela coluna **Aluno**. Para teremos o método **set_index() ** que permite realizar essa modificação."
      ]
    },
    {
      "cell_type": "code",
      "metadata": {
        "id": "bK2HN-GMNJ5H",
        "colab_type": "code",
        "colab": {}
      },
      "source": [
        "# definido Aluno como index do DataFrame \n",
        "notas.set_index('Aluno', inplace=True)"
      ],
      "execution_count": null,
      "outputs": []
    },
    {
      "cell_type": "code",
      "metadata": {
        "id": "Nj4oerDQOkKR",
        "colab_type": "code",
        "colab": {
          "base_uri": "https://localhost:8080/",
          "height": 235
        },
        "outputId": "8e17c484-6e9c-4599-feb7-70548e5e152b"
      },
      "source": [
        "notas.head()"
      ],
      "execution_count": null,
      "outputs": [
        {
          "output_type": "execute_result",
          "data": {
            "text/html": [
              "<div>\n",
              "<style scoped>\n",
              "    .dataframe tbody tr th:only-of-type {\n",
              "        vertical-align: middle;\n",
              "    }\n",
              "\n",
              "    .dataframe tbody tr th {\n",
              "        vertical-align: top;\n",
              "    }\n",
              "\n",
              "    .dataframe thead th {\n",
              "        text-align: right;\n",
              "    }\n",
              "</style>\n",
              "<table border=\"1\" class=\"dataframe\">\n",
              "  <thead>\n",
              "    <tr style=\"text-align: right;\">\n",
              "      <th></th>\n",
              "      <th>Matematica</th>\n",
              "      <th>Historia</th>\n",
              "      <th>Geografia</th>\n",
              "      <th>informatica</th>\n",
              "      <th>programaçao</th>\n",
              "      <th>Desafio</th>\n",
              "      <th>Tarefa</th>\n",
              "    </tr>\n",
              "    <tr>\n",
              "      <th>Aluno</th>\n",
              "      <th></th>\n",
              "      <th></th>\n",
              "      <th></th>\n",
              "      <th></th>\n",
              "      <th></th>\n",
              "      <th></th>\n",
              "      <th></th>\n",
              "    </tr>\n",
              "  </thead>\n",
              "  <tbody>\n",
              "    <tr>\n",
              "      <th>Dietrich</th>\n",
              "      <td>5</td>\n",
              "      <td>7.0</td>\n",
              "      <td>7.0</td>\n",
              "      <td>9.000000</td>\n",
              "      <td>2</td>\n",
              "      <td>1.0</td>\n",
              "      <td>10.0</td>\n",
              "    </tr>\n",
              "    <tr>\n",
              "      <th>hans</th>\n",
              "      <td>4</td>\n",
              "      <td>7.0</td>\n",
              "      <td>7.0</td>\n",
              "      <td>7.166667</td>\n",
              "      <td>5</td>\n",
              "      <td>7.0</td>\n",
              "      <td>11.0</td>\n",
              "    </tr>\n",
              "    <tr>\n",
              "      <th>hans</th>\n",
              "      <td>4</td>\n",
              "      <td>7.0</td>\n",
              "      <td>7.0</td>\n",
              "      <td>7.166667</td>\n",
              "      <td>5</td>\n",
              "      <td>7.0</td>\n",
              "      <td>11.0</td>\n",
              "    </tr>\n",
              "    <tr>\n",
              "      <th>mel</th>\n",
              "      <td>6</td>\n",
              "      <td>4.4</td>\n",
              "      <td>12.0</td>\n",
              "      <td>7.166667</td>\n",
              "      <td>10</td>\n",
              "      <td>9.0</td>\n",
              "      <td>12.0</td>\n",
              "    </tr>\n",
              "    <tr>\n",
              "      <th>Samuel</th>\n",
              "      <td>5</td>\n",
              "      <td>0.0</td>\n",
              "      <td>4.0</td>\n",
              "      <td>5.000000</td>\n",
              "      <td>8</td>\n",
              "      <td>4.0</td>\n",
              "      <td>9.8</td>\n",
              "    </tr>\n",
              "  </tbody>\n",
              "</table>\n",
              "</div>"
            ],
            "text/plain": [
              "          Matematica  Historia  Geografia  ...  programaçao  Desafio  Tarefa\n",
              "Aluno                                      ...                              \n",
              "Dietrich           5       7.0        7.0  ...            2      1.0    10.0\n",
              "hans               4       7.0        7.0  ...            5      7.0    11.0\n",
              "hans               4       7.0        7.0  ...            5      7.0    11.0\n",
              "mel                6       4.4       12.0  ...           10      9.0    12.0\n",
              "Samuel             5       0.0        4.0  ...            8      4.0     9.8\n",
              "\n",
              "[5 rows x 7 columns]"
            ]
          },
          "metadata": {
            "tags": []
          },
          "execution_count": 58
        }
      ]
    },
    {
      "cell_type": "markdown",
      "metadata": {
        "id": "yiefu4JGPU2a",
        "colab_type": "text"
      },
      "source": [
        "Agora com o index do DataFrame redefinido podemos accesar de forma rapida os dados(notas) de cada aluno usando o metodo **.loc**"
      ]
    },
    {
      "cell_type": "code",
      "metadata": {
        "id": "X_BIcS-FPAtp",
        "colab_type": "code",
        "colab": {
          "base_uri": "https://localhost:8080/",
          "height": 153
        },
        "outputId": "4694d31c-2a60-4398-a8d2-fcf7a46dce40"
      },
      "source": [
        "#visualizando as notas do Aluno junior\n",
        "notas.loc['junior']"
      ],
      "execution_count": null,
      "outputs": [
        {
          "output_type": "execute_result",
          "data": {
            "text/plain": [
              "Matematica     7.0\n",
              "Historia       1.0\n",
              "Geografia      5.0\n",
              "informatica    7.5\n",
              "programaçao    3.0\n",
              "Desafio        4.6\n",
              "Tarefa         5.0\n",
              "Name: junior, dtype: float64"
            ]
          },
          "metadata": {
            "tags": []
          },
          "execution_count": 59
        }
      ]
    }
  ]
}